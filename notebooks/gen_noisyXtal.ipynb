{
 "cells": [
  {
   "cell_type": "code",
   "execution_count": 1,
   "id": "fab16b0f-245a-402f-ade6-fa46ff87ff03",
   "metadata": {},
   "outputs": [],
   "source": [
    "import pandas as pd\n",
    "import os \n",
    "from ase.io import read,write\n",
    "import random\n",
    "\n",
    "from rdkit import Chem\n",
    "from rdkit.Chem.Draw import IPythonConsole\n",
    "from rdkit.Chem import rdDepictor\n",
    "from rdkit.Chem.Draw import rdMolDraw2D\n",
    "from rdkit.Chem import Draw\n",
    "from rdkit.Chem import rdMolDescriptors\n",
    "from rdkit.Chem import Descriptors3D\n",
    "from rdkit.Chem import AllChem\n",
    "\n",
    "\n",
    "from pymatgen.core.structure import Structure,Molecule\n",
    "from pyxtal.io import search_molecules_in_crystal\n",
    "from ase import Atoms\n",
    "\n",
    "import numpy as np \n",
    "\n",
    "import spglib as spg\n",
    "\n",
    "\n",
    "Ptable = Chem.GetPeriodicTable()\n",
    "\n",
    "Enegs = {\"O\": 3.44,\n",
    "        \"C\": 2.55,\n",
    "        \"N\": 3.04,\n",
    "        \"F\": 3.98,\n",
    "        \"Cl\": 3.16,\n",
    "        \"H\": 2.20,\n",
    "        \"P\": 2.19,\n",
    "        \"S\": 2.58}\n"
   ]
  },
  {
   "cell_type": "code",
   "execution_count": 2,
   "id": "907f74ac-0618-468a-9694-7a6251b77539",
   "metadata": {},
   "outputs": [],
   "source": [
    "\n",
    "def rotate_coords(Rmat,coords):\n",
    "    coords = [np.matmul(Rmat.T,c) for c in coords]\n",
    "    return coords\n",
    "\n",
    "def rotate_matrix(angles,m_i):    \n",
    "    matrix = m_i\n",
    "    \n",
    "    theta = angles[0] #* np.pi / 180\n",
    "    psi = angles[1] #* np.pi / 180\n",
    "    phi = angles[2] #* np.pi / 180\n",
    "    R_x = np.array([1,0,0,\n",
    "                    0,np.cos(psi),-np.sin(psi),\n",
    "                    0,np.sin(psi),np.cos(psi)]).reshape(3,3)\n",
    "    \n",
    "    R_y = np.array([np.cos(theta),0,np.sin(theta),\n",
    "                   0,1,0,\n",
    "                   -np.sin(theta),0,np.cos(theta)]).reshape(3,3)\n",
    "    \n",
    "    R_z = np.array([np.cos(phi),-np.sin(phi),0,\n",
    "                    np.sin(phi),np.cos(phi),0,\n",
    "                    0,0,1]).reshape(3,3)\n",
    "\n",
    "    \n",
    "    R_tot = np.matmul(R_z,np.matmul(R_y,R_x))\n",
    "    v0 = np.matmul(R_tot,m_i[0])\n",
    "    v1 = np.matmul(R_tot,m_i[1])\n",
    "    v2 = np.matmul(R_tot,m_i[2])\n",
    "\n",
    "    matrix = np.array([v0,v1,v2]).T\n",
    "    \n",
    "    #matrix = np.flip(matrix) #Flipped wrt initial basis\n",
    "    return matrix\n",
    "\n",
    "def get_euler_angles(m_i):\n",
    "    # print('Using full Euler: https://eecs.qmul.ac.uk/~gslabaugh/publications/euler.pdf')\n",
    "    if m_i[2,0] != 1 or m_i[2,0] != -1:\n",
    "        theta_1 = -np.arcsin(m_i[2,0])\n",
    "        theta_2 = np.pi - theta_1\n",
    "        \n",
    "        psi_1 = np.arctan2(m_i[2,1]/np.cos(theta_1),\n",
    "                            m_i[2,2]/np.cos(theta_1))\n",
    "        psi_2 = np.arctan2(m_i[2,1]/np.cos(theta_2),\n",
    "                            m_i[2,2]/np.cos(theta_2))\n",
    "        \n",
    "        phi_1 = np.arctan2(m_i[1,0]/np.cos(theta_1),\n",
    "                            m_i[0,0]/np.cos(theta_1))\n",
    "        phi_2 = np.arctan2(m_i[1,0]/np.cos(theta_2),\n",
    "                            m_i[0,0]/np.cos(theta_2))\n",
    "        \n",
    "        return np.array([theta_1,psi_1,phi_1,theta_2,psi_2,phi_2])\n",
    "    else:\n",
    "        phi = 0\n",
    "        if m_i[2,0] == -1:\n",
    "            theta = np.pi/2\n",
    "            psi = phi + np.arctan2(m_i[0,1],m_i[0,2])\n",
    "        else:\n",
    "            theta = -np.pi/2\n",
    "            psi = -phi + np.arctan2(-m_i[0,1],-m_i[0,2])\n",
    "        return phi,theta,psi\n",
    "\n",
    "\n",
    "def params_to_matrix(params):\n",
    "    a = params[0]\n",
    "    b = params[1]\n",
    "    c = params[2]\n",
    "    alpha = params[3] / 180 * np.pi\n",
    "    beta = params[4] / 180 * np.pi\n",
    "    gamma = params[5] / 180 * np.pi\n",
    "    n = (np.cos(alpha) - np.cos(gamma) * np.cos(beta)) / np.sin(gamma)\n",
    "    M = np.array([a, 0, 0, \n",
    "                  b * np.cos(gamma), b * np.sin(gamma), 0, \n",
    "                  c * np.cos(beta), c * n, c * np.sqrt(np.sin(beta) ** 2 - n ** 2)])\n",
    "    M = M.reshape(3, 3)\n",
    "    return M\n",
    "\n",
    "\n",
    "class ProcessCell:\n",
    "    def __init__(self,s):\n",
    "        self.structure = s\n",
    "\n",
    "    def standard_cell(self):\n",
    "        numbers = [self.structure.sites[x].specie.number for x in range(len(self.structure.sites))]\n",
    "        lattice = self.structure.lattice.matrix\n",
    "        positions = self.structure.frac_coords\n",
    "        cell = (lattice, positions, numbers)\n",
    "        dataset = spg.get_symmetry_dataset(cell, symprec=1E-3)\n",
    "        self.standard_structure = Structure(dataset['std_lattice'], dataset['std_types'], dataset['std_positions'])\n",
    "    def get_dataset(self):\n",
    "        numbers = [self.standard_structure.sites[x].specie.number for x in range(len(self.standard_structure.sites))]\n",
    "        lattice = self.standard_structure.lattice.matrix\n",
    "        positions = self.standard_structure.frac_coords\n",
    "        cell = (lattice, positions, numbers)\n",
    "        dataset = spg.get_symmetry_dataset(cell, symprec=1E-3)\n",
    "        self.standard_dataset = spg.get_symmetry_dataset(cell, symprec=1E-3)\n",
    "\n",
    "\n",
    "def get_full_cell_parameters(structure):\n",
    "    \"\"\"\n",
    "    Gets the full set of cell parameters from a STANDARDIZED CELL \n",
    "    [\n",
    "        a, 0, 0, \n",
    "        b * np.cos(gamma), b * np.sin(gamma), 0, \n",
    "        c * np.cos(beta), c * n, c * np.sqrt(np.sin(beta) ** 2 - n ** 2)\n",
    "    ]\n",
    "    \"\"\"\n",
    "\n",
    "    try:\n",
    "        molecs = search_molecules_in_crystal(structure)\n",
    "    except:\n",
    "        print('Pyxtal sucks.')\n",
    "        return None, None, None\n",
    "    coms = [np.linalg.norm(m.center_of_mass) for m in molecs]\n",
    "    canon = molecs[coms.index(min(coms))] #Closest to origin\n",
    "    species = [n.as_dict()['name'] for n in canon.sites]\n",
    "    coords = [n.as_dict()['xyz'] for n in canon.sites]\n",
    "    \n",
    "    ase_canon = Atoms(species,coords)\n",
    "\n",
    "    # print(get_moments_of_inertia(ase_canon))\n",
    "    com = ase_canon.get_center_of_mass()\n",
    "    abc_com = np.matmul(np.linalg.inv(structure.lattice.matrix).T,com)\n",
    "    ase_canon.set_positions(ase_canon.get_positions()-com)\n",
    "    m_i = ase_canon.get_moments_of_inertia(vectors=True)[1]\n",
    "\n",
    "    m_i = right_hand_rule(m_i)\n",
    "    \n",
    "    aligned_canon = [np.matmul(m_i,c) for c in ase_canon.get_positions()]\n",
    "    ase_canon.set_positions(aligned_canon)\n",
    "\n",
    "    \n",
    "    latt_abc = structure.lattice.abc\n",
    "    latt_angles = structure.lattice.angles\n",
    "    \n",
    "    euler_angles = get_euler_angles(m_i)\n",
    "\n",
    "    full_cell_parameters = np.array([latt_abc[0],latt_abc[1],latt_abc[2],latt_angles[0],latt_angles[1],latt_angles[2],\n",
    "                            abc_com[0],abc_com[1],abc_com[2],euler_angles[0],euler_angles[1],euler_angles[2]])\n",
    "\n",
    "    return full_cell_parameters, ase_canon,m_i\n",
    "\n",
    "\n",
    "def right_hand_rule(m_i):\n",
    "    eps = 1E-10\n",
    "    is_rh = np.linalg.norm(np.cross(m_i[0],m_i[1]) - m_i[2]) < eps\n",
    "\n",
    "    if is_rh:\n",
    "        return m_i\n",
    "    else:\n",
    "        # print('Not right-handed')\n",
    "        rot = np.array([-1,0,0,0,1,0,0,0,1]).reshape(3,3)\n",
    "        m_i = np.matmul(rot,m_i)\n",
    "        #m_i[0] *= -1\n",
    "        return m_i\n",
    "\n",
    "\n",
    "def get_cell_parameters(struc):\n",
    "    #Gets all standard rigid molecule parameters from input pymatgen structure\n",
    "    standardized = ProcessCell(struc)\n",
    "    standardized.standard_cell()\n",
    "    standardized.get_dataset()\n",
    "    std_struc = standardized.standard_structure\n",
    "    full_cell_parameters,canonical_conformer,m_i = get_full_cell_parameters(std_struc)\n",
    "    return full_cell_parameters,canonical_conformer\n",
    "\n",
    "\n",
    "\n",
    "def pull_dataset(path):\n",
    "    print('Pulling dataset statistics...')\n",
    "    Ncifs = len(os.listdir(path))\n",
    "    cell_parms = np.zeros([Ncifs,12])\n",
    "    canon_confs = [None] * Ncifs\n",
    "    for i,file in enumerate(os.listdir(path)):\n",
    "        ciffile = os.path.join(path,file)\n",
    "        try:\n",
    "            struc = Structure.from_file(ciffile)\n",
    "        except:\n",
    "            print('Cannot Parse {}')\n",
    "            continue\n",
    "        C,conf = get_cell_parameters(struc)\n",
    "        if C is None:\n",
    "            continue\n",
    "        cell_parms[i] = C\n",
    "        canon_confs[i] = conf\n",
    "    return cell_parms, canon_confs\n",
    "\n",
    "\n",
    "def distort(c,averages,scale=0.00,stddev=0.05,center=0,shape=12):\n",
    "    \n",
    "    noise = np.random.normal(0, stddev, shape)\n",
    "    C_std = ((c - averages)/np.std(c)**2)\n",
    "    C_dist = C_std + noise * scale\n",
    "    C_new = C_dist *np.std(c)**2 + averages\n",
    "    return C_new\n",
    "\n",
    "def distort_std(c,stddevs,averages,scale=0.01,stddev=0.5,center=0,shape=12):\n",
    "    noise = np.random.normal(0, stddev, shape)\n",
    "    C_std = ((c - averages)/stddevs**2)\n",
    "    C_dist = C_std + noise * scale\n",
    "    C_new = C_dist * stddevs ** 2 + averages\n",
    "    return C_new\n",
    "    "
   ]
  },
  {
   "cell_type": "code",
   "execution_count": 3,
   "id": "9f9557ec-f4f4-4e0b-a7e0-1c8a463d5bc3",
   "metadata": {},
   "outputs": [
    {
     "name": "stdout",
     "output_type": "stream",
     "text": [
      "KABGUR.cif\n",
      "KAGCIE.cif\n",
      "XUHZEF.cif\n",
      "XYANAC.cif\n",
      "DIFSAO.cif\n",
      "AKENOU.cif\n"
     ]
    }
   ],
   "source": [
    "#Standardizing cifs\n",
    "\n",
    "#Full parameter set for Z'=1 crystal:\n",
    "\"\"\"\n",
    "    latt_a\n",
    "    latt_b\n",
    "    latt_c\n",
    "    latt_alpha\n",
    "    latt_beta\n",
    "    latt_gamma\n",
    "    com_a\n",
    "    com_b\n",
    "    com_c\n",
    "    mol_phi\n",
    "    mol_psi\n",
    "    mol_theta\n",
    "\n",
    "\"\"\"\n",
    "\n",
    "#transform back to cartesian\n",
    "\"\"\"\n",
    "rotate matrix: eigenvectors of the principle moments of inertia form an orthogonormal basis that represents the rigid\n",
    "    body's orientation in 3D. The euler angles describe the orientation of these vectors wrt\n",
    "    to Cartesian unit vectors. This allows us to reorient the molecule to its original placement in lattice, as well\n",
    "    as apply small perturbations to just these 3 angles for generating \"false\" xtals.\n",
    "\n",
    "Using the 12 cell parameters to generate a an asymmetric cell. Unit cell is regenerated using the original space group\n",
    "TODO:    \n",
    "    Gaussian noise/variability in params. \n",
    "\"\"\"\n",
    "\n",
    "#Replace cell as is \n",
    "os.makedirs('replaced',exist_ok=True)\n",
    "\n",
    "for file in os.listdir('cif'):\n",
    "    print(file)\n",
    "    ciffile = os.path.join('cif',file)\n",
    "    struc = Structure.from_file(ciffile)\n",
    "    standardized = ProcessCell(struc)\n",
    "    standardized.standard_cell()\n",
    "    standardized.get_dataset()\n",
    "    std_struc = standardized.standard_structure\n",
    "    std_dataset = standardized.standard_dataset\n",
    "\n",
    "    # std_struc.to(os.path.join('standardized_cell',file))\n",
    "\n",
    "    \n",
    "    full_cell_parameters,canonical_conformer,m_i = get_full_cell_parameters(std_struc)\n",
    "\n",
    "    canonical_coords = canonical_conformer.get_positions()\n",
    "    canonical_species = canonical_conformer.get_chemical_symbols()\n",
    "    aligned_moments = canonical_conformer.get_moments_of_inertia(vectors=True)[1]\n",
    "        \n",
    "    matrix = params_to_matrix(full_cell_parameters[0:6])    \n",
    "    m_i_rev = rotate_matrix(full_cell_parameters[9:],np.eye(3,3))\n",
    "\n",
    "    \n",
    "    rotated_coords = rotate_coords(m_i_rev,canonical_coords)\n",
    "    abc_coords = [np.matmul(np.linalg.inv(matrix).T,xyz) + full_cell_parameters[6:9] for xyz in rotated_coords]\n",
    "    \n",
    "    uc_coords = np.array([])\n",
    "    uc_species = np.array([])\n",
    "    xform = std_dataset['transformation_matrix']\n",
    "    for r,t in zip(std_dataset['rotations'],std_dataset['translations']):\n",
    "        img_abc = np.array([])\n",
    "        img_species = []\n",
    "        for sym,abc in zip(canonical_species,abc_coords):\n",
    "            img_abc = np.append(img_abc,(np.matmul(r,abc)+t))\n",
    "            img_species.append(sym)\n",
    "        img_abc = img_abc.reshape([-1,3])\n",
    "        uc_coords = np.append(uc_coords,img_abc)\n",
    "        uc_species = np.append(uc_species,img_species,axis=0)\n",
    "    \n",
    "    uc_coords = uc_coords.reshape([-1,3])\n",
    "    \n",
    "    new_struc = Structure(lattice=matrix,species=uc_species,coords=uc_coords)\n",
    "    new_struc.to(os.path.join('replaced',file))\n",
    "\n",
    "    \n"
   ]
  },
  {
   "cell_type": "code",
   "execution_count": 4,
   "id": "c58ad8d0-a1d5-4b4c-8b3c-2baf06399abb",
   "metadata": {},
   "outputs": [
    {
     "name": "stdout",
     "output_type": "stream",
     "text": [
      "Pulling dataset statistics...\n"
     ]
    }
   ],
   "source": [
    "#Pull the dataset statistics for distortion stuff\n",
    "\n",
    "os.makedirs('perturbed',exist_ok=True)\n",
    "\n",
    "\n",
    "\n",
    "cell_parms, canon_confs = pull_dataset('cif')\n",
    "averages = np.array([np.mean(cell_parms[:,i]) for i in range(12)])\n",
    "stddevs = np.array([np.std(cell_parms[:,i]) for i in range(12)])\n",
    "stddevs[np.where(stddevs==0)] = 1E-5\n"
   ]
  },
  {
   "cell_type": "code",
   "execution_count": 5,
   "id": "9f848178-34f9-4833-b071-87fa95660173",
   "metadata": {},
   "outputs": [
    {
     "name": "stdout",
     "output_type": "stream",
     "text": [
      "STARTING DISTORTED SET\n",
      "KABGUR.cif\n",
      "KAGCIE.cif\n",
      "XUHZEF.cif\n",
      "XYANAC.cif\n",
      "DIFSAO.cif\n",
      "AKENOU.cif\n"
     ]
    }
   ],
   "source": [
    "#Distort stuff\n",
    "print('STARTING DISTORTED SET')\n",
    "for file in os.listdir('cif'):\n",
    "    print(file)\n",
    "    ciffile = os.path.join('cif',file)\n",
    "    try:\n",
    "        struc = Structure.from_file(ciffile)\n",
    "    except:\n",
    "        print('parser failed')\n",
    "        continue\n",
    "    standardized = ProcessCell(struc)\n",
    "    standardized.standard_cell()\n",
    "    standardized.get_dataset()\n",
    "    std_struc = standardized.standard_structure\n",
    "    std_dataset = standardized.standard_dataset\n",
    "    \n",
    "    full_cell_parameters,canonical_conformer,m_i = get_full_cell_parameters(std_struc)\n",
    "\n",
    "    if canonical_conformer is None:\n",
    "        continue\n",
    "        \n",
    "    canonical_coords = canonical_conformer.get_positions()\n",
    "    canonical_species = canonical_conformer.get_chemical_symbols()\n",
    "    aligned_moments = canonical_conformer.get_moments_of_inertia(vectors=True)[1]\n",
    "\n",
    "    distorted = distort_std(full_cell_parameters,stddevs,averages,scale=0.05)\n",
    "        \n",
    "    matrix = params_to_matrix(distorted[0:6])    \n",
    "    m_i_rev = rotate_matrix(distorted[9:],np.eye(3,3))\n",
    "    \n",
    "    rotated_coords = rotate_coords(m_i_rev,canonical_coords)\n",
    "    abc_coords = [np.matmul(np.linalg.inv(matrix).T,xyz) + distorted[6:9] for xyz in rotated_coords]\n",
    "    \n",
    "    uc_coords = np.array([])\n",
    "    uc_species = np.array([])\n",
    "    xform = std_dataset['transformation_matrix']\n",
    "    for r,t in zip(std_dataset['rotations'],std_dataset['translations']):\n",
    "        img_abc = np.array([])\n",
    "        img_species = []\n",
    "        for sym,abc in zip(canonical_species,abc_coords):\n",
    "            img_abc = np.append(img_abc,(np.matmul(r,abc)+t))\n",
    "            img_species.append(sym)\n",
    "        img_abc = img_abc.reshape([-1,3])\n",
    "        uc_coords = np.append(uc_coords,img_abc)\n",
    "        uc_species = np.append(uc_species,img_species,axis=0)\n",
    "    \n",
    "    uc_coords = uc_coords.reshape([-1,3])\n",
    "    \n",
    "    new_struc = Structure(lattice=matrix,species=uc_species,coords=uc_coords)\n",
    "    new_struc.to(os.path.join('perturbed',file))"
   ]
  },
  {
   "cell_type": "code",
   "execution_count": 6,
   "id": "17eea1be-bbdf-49ca-b491-50bf54b4b81c",
   "metadata": {},
   "outputs": [
    {
     "data": {
      "text/plain": [
       "array([ 8.13289706,  8.62159996, 27.89151857, 89.69679913, 93.01618232,\n",
       "       91.97594987,  0.71861568,  0.6978528 , -0.10831718, -1.32606854,\n",
       "       -2.83322767, -0.39418809])"
      ]
     },
     "execution_count": 6,
     "metadata": {},
     "output_type": "execute_result"
    }
   ],
   "source": [
    "distorted"
   ]
  },
  {
   "cell_type": "code",
   "execution_count": 22,
   "id": "5e3a8354-40f8-4d3c-9cfd-987950565e9a",
   "metadata": {},
   "outputs": [],
   "source": [
    "full_cell_parameters"
   ]
  },
  {
   "cell_type": "code",
   "execution_count": 70,
   "id": "0a7b7c6f-24e4-4796-a9a1-f8a31ad59ac4",
   "metadata": {},
   "outputs": [
    {
     "data": {
      "text/plain": [
       "array([ 3.87130000e+00,  1.27700000e+01,  9.97400000e+00,  9.00000000e+01,\n",
       "        9.33970000e+01,  9.00000000e+01, -5.16913645e-02,  2.97063827e-01,\n",
       "        3.11630562e-01, -1.05015053e+00,  1.25060516e+00, -2.93231987e+00])"
      ]
     },
     "execution_count": 70,
     "metadata": {},
     "output_type": "execute_result"
    }
   ],
   "source": [
    "c"
   ]
  },
  {
   "cell_type": "code",
   "execution_count": 71,
   "id": "af5ec3c6-748c-4397-b109-27d6ada3fcd3",
   "metadata": {},
   "outputs": [
    {
     "data": {
      "text/plain": [
       "array([ 3.64617212e+00,  1.29647991e+01,  9.85146573e+00,  9.04330003e+01,\n",
       "        9.36529008e+01,  9.05343384e+01, -1.35764475e-01,  8.15190959e-02,\n",
       "        2.59314496e-01, -7.10855802e-01,  1.25412045e+00, -2.98831753e+00])"
      ]
     },
     "execution_count": 71,
     "metadata": {},
     "output_type": "execute_result"
    }
   ],
   "source": [
    "C_new"
   ]
  },
  {
   "cell_type": "code",
   "execution_count": 32,
   "id": "d710879a-c863-4a37-b061-30c08e22ec18",
   "metadata": {},
   "outputs": [
    {
     "data": {
      "text/plain": [
       "array([ 0.09327337,  0.00446796,  0.00769386, -0.09934378, -0.006463  ,\n",
       "        0.00412857, -0.03663375, -0.02819695, -0.0789602 ,  0.06380148,\n",
       "        0.15123125, -0.0983077 ])"
      ]
     },
     "execution_count": 32,
     "metadata": {},
     "output_type": "execute_result"
    }
   ],
   "source": [
    "gaussian_noise"
   ]
  },
  {
   "cell_type": "code",
   "execution_count": 40,
   "id": "a50892a5-38a4-43f0-9436-fd2bd9e8425f",
   "metadata": {},
   "outputs": [
    {
     "data": {
      "text/plain": [
       "array([-0.13224706,  0.01122095, -0.00760959, -0.0459745 ,  0.01275027,\n",
       "        0.1422896 ,  0.1427657 ,  0.04481617,  0.25067536,  0.26835434,\n",
       "       -0.09690747,  0.04769525])"
      ]
     },
     "execution_count": 40,
     "metadata": {},
     "output_type": "execute_result"
    }
   ],
   "source": [
    "noise"
   ]
  },
  {
   "cell_type": "code",
   "execution_count": 41,
   "id": "e4b5c6a1-0f35-4251-b4b4-c76911d529e9",
   "metadata": {},
   "outputs": [
    {
     "data": {
      "text/plain": [
       "array([-1.36859972e-03, -6.27591934e-04, -4.52247048e-04,  0.00000000e+00,\n",
       "       -4.63043572e-03,  0.00000000e+00, -2.65399420e-04,  2.93866748e-05,\n",
       "       -8.07285164e-05, -5.46935189e-04,  8.86354820e-04, -1.22046183e-03])"
      ]
     },
     "execution_count": 41,
     "metadata": {},
     "output_type": "execute_result"
    }
   ],
   "source": [
    "C_std"
   ]
  },
  {
   "cell_type": "code",
   "execution_count": null,
   "id": "38151de3-2497-465f-bcfa-31705174b85b",
   "metadata": {},
   "outputs": [],
   "source": []
  }
 ],
 "metadata": {
  "kernelspec": {
   "display_name": "Python 3 (ipykernel)",
   "language": "python",
   "name": "python3"
  },
  "language_info": {
   "codemirror_mode": {
    "name": "ipython",
    "version": 3
   },
   "file_extension": ".py",
   "mimetype": "text/x-python",
   "name": "python",
   "nbconvert_exporter": "python",
   "pygments_lexer": "ipython3",
   "version": "3.9.16"
  }
 },
 "nbformat": 4,
 "nbformat_minor": 5
}
